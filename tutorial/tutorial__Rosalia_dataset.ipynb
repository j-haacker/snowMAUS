{
 "cells": [
  {
   "cell_type": "markdown",
   "metadata": {},
   "source": [
    "# Snow cover at selected points (Rosalia dataset)\n",
    "\n",
    "This is a notebook that show-cases the usage of snowMAUS at hand of the Rosalia\n",
    "dataset."
   ]
  },
  {
   "cell_type": "markdown",
   "metadata": {},
   "source": [
    "## Loading the dataset\n",
    "\n",
    "The dataset is provided in the CSV format. The package pandas conveniently\n",
    "handles data in table formats and can be used for the current dataset.\n",
    "\n",
    "While, usually, pandas handles decoding files well, in this case one needs to\n",
    "specify the file's encoding (encoding=\"latin\")."
   ]
  },
  {
   "cell_type": "markdown",
   "metadata": {},
   "source": [
    "*note*  \n",
    "Its good practice to view data using a basic editor. In this case, for\n",
    "example, the files include information about the data units and the measuring\n",
    "location."
   ]
  },
  {
   "cell_type": "code",
   "execution_count": null,
   "metadata": {},
   "outputs": [],
   "source": [
    "import pandas as pd"
   ]
  },
  {
   "cell_type": "code",
   "execution_count": null,
   "metadata": {},
   "outputs": [],
   "source": [
    "precip = pd.read_csv(\n",
    "    \"RR_Rosalia.csv\",\n",
    "    encoding=\"latin\",\n",
    "    index_col=0,  # use first column as index\n",
    "    header=0,  # use first row as column names\n",
    "    skiprows=[1,2,3],  # do not read second until forth row\n",
    "    parse_dates=True  # convert strings to dates if possible\n",
    ").rename_axis(\"time\")  # name index \"time\"\n",
    "print(\"Daily precipitation data in kg/m²:\\n\", precip)"
   ]
  },
  {
   "cell_type": "code",
   "execution_count": null,
   "metadata": {},
   "outputs": [],
   "source": [
    "T_min = pd.read_csv(\"TN_Rosalia.csv\", encoding=\"latin\", index_col=0, header=0,\n",
    "                    skiprows=[1,2,3], parse_dates=True).rename_axis(\"time\")\n",
    "print(\"Daily temperature minimum in ˚C:\\n\", T_min)"
   ]
  },
  {
   "cell_type": "code",
   "execution_count": null,
   "metadata": {},
   "outputs": [],
   "source": [
    "T_max = pd.read_csv(\"TX_Rosalia.csv\",  # this file uses the conventional utf-8 encoding\n",
    "                    index_col=0, header=0, skiprows=[1,2,3], parse_dates=True\n",
    "                    ).rename_axis(\"time\")\n",
    "print(\"Daily temperature maximum in ˚C:\\n\", T_max)"
   ]
  },
  {
   "cell_type": "markdown",
   "metadata": {},
   "source": [
    "## Calculate the snow cover\n",
    "\n",
    "With the data available, one can use snowMAUS to estimate the snow cover."
   ]
  },
  {
   "cell_type": "code",
   "execution_count": null,
   "metadata": {},
   "outputs": [],
   "source": [
    "# load snowMAUS. assuming it is in the parent directory, append it to the search\n",
    "# path first\n",
    "import sys\n",
    "sys.path.append(\"..\")\n",
    "import snowmaus"
   ]
  },
  {
   "cell_type": "code",
   "execution_count": null,
   "metadata": {},
   "outputs": [],
   "source": [
    "import numpy as np"
   ]
  },
  {
   "cell_type": "code",
   "execution_count": null,
   "metadata": {},
   "outputs": [],
   "source": [
    "def snowcover(prev_day, accum, melt):\n",
    "    balance = prev_day + accum - melt\n",
    "    return np.where(balance > 0, balance, 0)"
   ]
  },
  {
   "cell_type": "markdown",
   "metadata": {},
   "source": [
    "The commented function is easier to read but takes about twice as long as the\n",
    "one following below the commented lines."
   ]
  },
  {
   "cell_type": "code",
   "execution_count": null,
   "metadata": {},
   "outputs": [],
   "source": [
    "# # iteratively calculate the snow cover\n",
    "# # this can be done faster, if one pre-calculates the accumulation and the potential melt\n",
    "# snowcover_df = pd.DataFrame(index=precip.index, columns=precip.columns)\n",
    "# snowcover_df.iloc[0] = snowcover(0, snowmaus.accumulation(precip.iloc[0], T_min.iloc[0]), snowmaus.melt(T_min.iloc[0], T_max.iloc[0]))\n",
    "# for i in range(1, len(precip.index)):\n",
    "#     snowcover_df.iloc[i] = snowcover(snowcover_df.iloc[i-1], snowmaus.accumulation(precip.iloc[i], T_min.iloc[i]), snowmaus.melt(T_min.iloc[i], T_max.iloc[i]))\n",
    "# snowcover_df"
   ]
  },
  {
   "cell_type": "code",
   "execution_count": null,
   "metadata": {},
   "outputs": [],
   "source": [
    "daily_accum = pd.DataFrame(\n",
    "    data=snowmaus.accumulation(precip, T_min),\n",
    "    index=precip.index,\n",
    "    columns=precip.columns\n",
    ")\n",
    "print(\"Daily snow accumulation in the same unit as \\\"precip\\\":\\n\", daily_accum)"
   ]
  },
  {
   "cell_type": "code",
   "execution_count": null,
   "metadata": {},
   "outputs": [],
   "source": [
    "# the potential melt is the amount of snow that could be melted if it was\n",
    "# present\n",
    "potential_melt = pd.DataFrame(\n",
    "    data=snowmaus.melt(T_min, T_max),\n",
    "    index=T_min.index,\n",
    "    columns=T_min.columns\n",
    ")\n",
    "print(\"Potential meltwater runoff in mm:\\n\", daily_accum)"
   ]
  },
  {
   "cell_type": "markdown",
   "metadata": {},
   "source": [
    "*note*  \n",
    "The units mm and kg/m² are equivalent when used with water (density = 1000 kg/m³)."
   ]
  },
  {
   "cell_type": "code",
   "execution_count": null,
   "metadata": {},
   "outputs": [],
   "source": [
    "snowcover_df = pd.DataFrame(index=precip.index, columns=precip.columns)\n",
    "snowcover_df.iloc[0] = snowcover(0, daily_accum.iloc[0], potential_melt.iloc[0])\n",
    "for i in range(1, len(precip.index)):\n",
    "    snowcover_df.iloc[i] = snowcover(snowcover_df.iloc[i-1], daily_accum.iloc[i], potential_melt.iloc[i])\n",
    "snowcover_df"
   ]
  },
  {
   "cell_type": "code",
   "execution_count": null,
   "metadata": {},
   "outputs": [],
   "source": [
    "reference = pd.read_csv(\"swe_tot_Rosalia.csv\", encoding=\"latin\", index_col=0, header=0,\n",
    "                        skiprows=[1,2,3], parse_dates=True).rename_axis(\"time\")\n",
    "print(\"Snow cover in kg/m²:\\n\", reference)"
   ]
  },
  {
   "cell_type": "code",
   "execution_count": null,
   "metadata": {},
   "outputs": [],
   "source": [
    "import matplotlib.pyplot as plt"
   ]
  },
  {
   "cell_type": "code",
   "execution_count": null,
   "metadata": {},
   "outputs": [],
   "source": [
    "# function to quickly view the modelled data next to the observations\n",
    "def visual_comparison(model, reference, year: int = 2023, location_name: str = \"Forchtenstein\"):\n",
    "    model.loc[f\"{year}-10\":f\"{year+1}-04\",location_name].plot(label=\"model\")\n",
    "    reference.loc[f\"{year}-10\":f\"{year+1}-04\",location_name].plot(label=\"observations\")\n",
    "    plt.legend()\n",
    "    plt.ylabel(\"Snow cover in kg/m²\")\n",
    "    plt.xlabel(\"\")\n",
    "    plt.title(location_name)\n",
    "    plt.show()"
   ]
  },
  {
   "cell_type": "code",
   "execution_count": null,
   "metadata": {},
   "outputs": [],
   "source": [
    "visual_comparison(snowcover_df, reference)"
   ]
  }
 ],
 "metadata": {
  "kernelspec": {
   "display_name": "devel",
   "language": "python",
   "name": "python3"
  },
  "language_info": {
   "codemirror_mode": {
    "name": "ipython",
    "version": 3
   },
   "file_extension": ".py",
   "mimetype": "text/x-python",
   "name": "python",
   "nbconvert_exporter": "python",
   "pygments_lexer": "ipython3",
   "version": "3.12.8"
  }
 },
 "nbformat": 4,
 "nbformat_minor": 2
}
